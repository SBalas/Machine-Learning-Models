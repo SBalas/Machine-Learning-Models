{
 "cells": [
  {
   "cell_type": "markdown",
   "metadata": {},
   "source": [
    "##  Logistic Regression\n",
    "- https://harvard-iacs.github.io/2018-CS109A/lectures/lecture-10/demo/\n",
    "- ``` MODEL.get_params() ``` gives the list of parameters in the results of the model"
   ]
  },
  {
   "cell_type": "code",
   "execution_count": 275,
   "metadata": {},
   "outputs": [],
   "source": [
    "import numpy as np\n",
    "import pandas as pd\n",
    "import matplotlib.pylab as plt\n",
    "import seaborn as sns\n",
    "sns.set()\n",
    "\n",
    "from sklearn.model_selection import train_test_split\n",
    "from sklearn.linear_model import LogisticRegression\n",
    "from sklearn.metrics import confusion_matrix\n",
    "\n",
    "%matplotlib inline\n"
   ]
  },
  {
   "cell_type": "code",
   "execution_count": 230,
   "metadata": {},
   "outputs": [
    {
     "data": {
      "text/html": [
       "<div>\n",
       "<style scoped>\n",
       "    .dataframe tbody tr th:only-of-type {\n",
       "        vertical-align: middle;\n",
       "    }\n",
       "\n",
       "    .dataframe tbody tr th {\n",
       "        vertical-align: top;\n",
       "    }\n",
       "\n",
       "    .dataframe thead th {\n",
       "        text-align: right;\n",
       "    }\n",
       "</style>\n",
       "<table border=\"1\" class=\"dataframe\">\n",
       "  <thead>\n",
       "    <tr style=\"text-align: right;\">\n",
       "      <th></th>\n",
       "      <th>Unnamed: 0</th>\n",
       "      <th>Age</th>\n",
       "      <th>Sex</th>\n",
       "      <th>ChestPain</th>\n",
       "      <th>RestBP</th>\n",
       "      <th>Chol</th>\n",
       "      <th>Fbs</th>\n",
       "      <th>RestECG</th>\n",
       "      <th>MaxHR</th>\n",
       "      <th>ExAng</th>\n",
       "      <th>Oldpeak</th>\n",
       "      <th>Slope</th>\n",
       "      <th>Ca</th>\n",
       "      <th>Thal</th>\n",
       "      <th>AHD</th>\n",
       "    </tr>\n",
       "  </thead>\n",
       "  <tbody>\n",
       "    <tr>\n",
       "      <th>0</th>\n",
       "      <td>1</td>\n",
       "      <td>63</td>\n",
       "      <td>1</td>\n",
       "      <td>typical</td>\n",
       "      <td>145</td>\n",
       "      <td>233</td>\n",
       "      <td>1</td>\n",
       "      <td>2</td>\n",
       "      <td>150</td>\n",
       "      <td>0</td>\n",
       "      <td>2.3</td>\n",
       "      <td>3</td>\n",
       "      <td>0.0</td>\n",
       "      <td>fixed</td>\n",
       "      <td>No</td>\n",
       "    </tr>\n",
       "    <tr>\n",
       "      <th>1</th>\n",
       "      <td>2</td>\n",
       "      <td>67</td>\n",
       "      <td>1</td>\n",
       "      <td>asymptomatic</td>\n",
       "      <td>160</td>\n",
       "      <td>286</td>\n",
       "      <td>0</td>\n",
       "      <td>2</td>\n",
       "      <td>108</td>\n",
       "      <td>1</td>\n",
       "      <td>1.5</td>\n",
       "      <td>2</td>\n",
       "      <td>3.0</td>\n",
       "      <td>normal</td>\n",
       "      <td>Yes</td>\n",
       "    </tr>\n",
       "    <tr>\n",
       "      <th>2</th>\n",
       "      <td>3</td>\n",
       "      <td>67</td>\n",
       "      <td>1</td>\n",
       "      <td>asymptomatic</td>\n",
       "      <td>120</td>\n",
       "      <td>229</td>\n",
       "      <td>0</td>\n",
       "      <td>2</td>\n",
       "      <td>129</td>\n",
       "      <td>1</td>\n",
       "      <td>2.6</td>\n",
       "      <td>2</td>\n",
       "      <td>2.0</td>\n",
       "      <td>reversable</td>\n",
       "      <td>Yes</td>\n",
       "    </tr>\n",
       "    <tr>\n",
       "      <th>3</th>\n",
       "      <td>4</td>\n",
       "      <td>37</td>\n",
       "      <td>1</td>\n",
       "      <td>nonanginal</td>\n",
       "      <td>130</td>\n",
       "      <td>250</td>\n",
       "      <td>0</td>\n",
       "      <td>0</td>\n",
       "      <td>187</td>\n",
       "      <td>0</td>\n",
       "      <td>3.5</td>\n",
       "      <td>3</td>\n",
       "      <td>0.0</td>\n",
       "      <td>normal</td>\n",
       "      <td>No</td>\n",
       "    </tr>\n",
       "    <tr>\n",
       "      <th>4</th>\n",
       "      <td>5</td>\n",
       "      <td>41</td>\n",
       "      <td>0</td>\n",
       "      <td>nontypical</td>\n",
       "      <td>130</td>\n",
       "      <td>204</td>\n",
       "      <td>0</td>\n",
       "      <td>2</td>\n",
       "      <td>172</td>\n",
       "      <td>0</td>\n",
       "      <td>1.4</td>\n",
       "      <td>1</td>\n",
       "      <td>0.0</td>\n",
       "      <td>normal</td>\n",
       "      <td>No</td>\n",
       "    </tr>\n",
       "  </tbody>\n",
       "</table>\n",
       "</div>"
      ],
      "text/plain": [
       "   Unnamed: 0  Age  Sex     ChestPain  RestBP  Chol  Fbs  RestECG  MaxHR  \\\n",
       "0           1   63    1       typical     145   233    1        2    150   \n",
       "1           2   67    1  asymptomatic     160   286    0        2    108   \n",
       "2           3   67    1  asymptomatic     120   229    0        2    129   \n",
       "3           4   37    1    nonanginal     130   250    0        0    187   \n",
       "4           5   41    0    nontypical     130   204    0        2    172   \n",
       "\n",
       "   ExAng  Oldpeak  Slope   Ca        Thal  AHD  \n",
       "0      0      2.3      3  0.0       fixed   No  \n",
       "1      1      1.5      2  3.0      normal  Yes  \n",
       "2      1      2.6      2  2.0  reversable  Yes  \n",
       "3      0      3.5      3  0.0      normal   No  \n",
       "4      0      1.4      1  0.0      normal   No  "
      ]
     },
     "execution_count": 230,
     "metadata": {},
     "output_type": "execute_result"
    }
   ],
   "source": [
    "df_heart = pd.read_csv('./data/heart.csv')\n",
    "df_heart.shape \n",
    "df_heart.head()      "
   ]
  },
  {
   "cell_type": "markdown",
   "metadata": {},
   "source": [
    "### Predict AHD from Max HR"
   ]
  },
  {
   "cell_type": "code",
   "execution_count": 144,
   "metadata": {},
   "outputs": [
    {
     "data": {
      "text/plain": [
       "Text(0, 0.5, 'AHD')"
      ]
     },
     "execution_count": 144,
     "metadata": {},
     "output_type": "execute_result"
    },
    {
     "data": {
      "image/png": "[encoded data removed]",
      "text/plain": [
       "<Figure size 432x288 with 1 Axes>"
      ]
     },
     "metadata": {
      "needs_background": "light"
     },
     "output_type": "display_data"
    }
   ],
   "source": [
    "plt.plot(df_heart.MaxHR, df_heart.AHD, 'o', alpha = .5)\n",
    "plt.xlabel(\"Max HR\")\n",
    "plt.ylabel(\"AHD\")"
   ]
  },
  {
   "cell_type": "code",
   "execution_count": 175,
   "metadata": {},
   "outputs": [
    {
     "name": "stdout",
     "output_type": "stream",
     "text": [
      "Score or Accuracy =  0.7704918032786885\n",
      "Estimated beta1:  [[-0.04008727]]\n",
      "Estimated beta0:  [5.86670118]\n",
      "For one unit increase in maxHD the log(odds) of heart diseases increases by [0.9607056]\n",
      "\n",
      "Confusion Matrix \n",
      " [[27  8]\n",
      " [ 6 20]]\n"
     ]
    },
    {
     "data": {
      "text/plain": [
       "Text(0, 0.5, 'Hear Disease')"
      ]
     },
     "execution_count": 175,
     "metadata": {},
     "output_type": "execute_result"
    },
    {
     "data": {
      "image/png": "[encoded data removed]",
      "text/plain": [
       "<Figure size 1080x576 with 1 Axes>"
      ]
     },
     "metadata": {
      "needs_background": "light"
     },
     "output_type": "display_data"
    }
   ],
   "source": [
    "np.random.seed(22)\n",
    "# Split into train and test sets\n",
    "Xtrain, Xtest, ytrain, ytest = train_test_split(df_heart['MaxHR'].values.reshape(-1,1),\n",
    "                                                df_heart['AHD'], \n",
    "                                                test_size = 0.2)\n",
    "\n",
    "# create model\n",
    "logreg = LogisticRegression()\n",
    "\n",
    "# fit model\n",
    "logreg.fit(Xtrain, ytrain);\n",
    "\n",
    "# test model\n",
    "score = logreg.score(Xtest, ytest)\n",
    "print(\"Score or Accuracy = \", score)\n",
    "\n",
    "# Coefficients\n",
    "print('Estimated beta1: ', logreg.coef_)\n",
    "print('Estimated beta0: ', logreg.intercept_)\n",
    "print('For one unit increase in maxHD the log(odds) of heart diseases increases by', np.exp(logreg.coef_[0]))\n",
    "\n",
    "# predict y values\n",
    "pred_y = logreg.predict(Xtest)\n",
    "conf_matrix = confusion_matrix(ytest, pred_y)\n",
    "print('\\nConfusion Matrix \\n', conf_matrix)\n",
    "\n",
    "# plot results\n",
    "plt.figure(figsize=(15,8))\n",
    "plt.plot(np.sort(Xtest), ytest, 'o', alpha = 1, color = 'green', markersize = 20)\n",
    "plt.plot(np.sort(Xtest), pred_y, 'o', alpha = 1, color = 'red')\n",
    "plt.xlabel(\"Max HR\")\n",
    "plt.ylabel(\"Hear Disease\")"
   ]
  },
  {
   "cell_type": "markdown",
   "metadata": {},
   "source": [
    "### Multi logistic Regression"
   ]
  },
  {
   "cell_type": "code",
   "execution_count": 197,
   "metadata": {},
   "outputs": [
    {
     "name": "stdout",
     "output_type": "stream",
     "text": [
      "Score or Accuracy =  0.7540983606557377\n",
      "Estimated beta1:  [[-0.04047751  1.16013526]]\n",
      "Estimated beta0:  [5.13227087]\n",
      "log(odds) of heart diseases for male is 3.1903647705885345 more than that for female\n",
      "\n",
      "Confusion Matrix \n",
      " [[27  8]\n",
      " [ 7 19]]\n"
     ]
    }
   ],
   "source": [
    "np.random.seed(22)\n",
    "# Split into train and test sets\n",
    "Xtrain, Xtest, ytrain, ytest = train_test_split(df_heart[['MaxHR', 'Sex']],\n",
    "                                                df_heart['AHD'], \n",
    "                                                test_size = 0.2)\n",
    "\n",
    "# create model\n",
    "logreg = LogisticRegression()\n",
    "\n",
    "# fit model\n",
    "logreg.fit(Xtrain, ytrain);\n",
    "\n",
    "# test model\n",
    "score = logreg.score(Xtest, ytest)\n",
    "print(\"Score or Accuracy = \", score)\n",
    "\n",
    "# Coefficients\n",
    "print('Estimated beta1: ', logreg.coef_)\n",
    "print('Estimated beta0: ', logreg.intercept_)\n",
    "print('log(odds) of heart diseases for male is', np.exp(logreg.coef_.item(1)), \"more than that for female\")\n",
    "\n",
    "\n",
    "# predict y values\n",
    "pred_y = logreg.predict(Xtest)\n",
    "conf_matrix = confusion_matrix(ytest, pred_y)\n",
    "print('\\nConfusion Matrix \\n', conf_matrix)"
   ]
  },
  {
   "cell_type": "markdown",
   "metadata": {},
   "source": [
    "###  Convert AHD into 1s and 0s"
   ]
  },
  {
   "cell_type": "code",
   "execution_count": 220,
   "metadata": {},
   "outputs": [
    {
     "name": "stdout",
     "output_type": "stream",
     "text": [
      "% women =  0.3201320132013201\n",
      "% men =  0.6798679867986799\n",
      "\n",
      "\n",
      "Estimated beta1:  [[1.18597443]]\n",
      "Estimated beta0:  [-0.99483151]\n"
     ]
    }
   ],
   "source": [
    "data_x = df_heart.Sex.values\n",
    "data_y = df_heart.AHD.map(lambda x:0 if x == 'No' else 1).values\n",
    "\n",
    "print(\"% women = \", sum(df_heart['Sex'] == 0)/df_heart['Sex'].shape[0])\n",
    "print(\"% men = \", sum(df_heart['Sex'] == 1)/df_heart['Sex'].shape[0])\n",
    "print(\"\\n\")\n",
    "\n",
    "logreg.fit(data_x.reshape(-1,1), data_y);\n",
    "\n",
    "print('Estimated beta1: ', logreg.coef_)\n",
    "print('Estimated beta0: ', logreg.intercept_)\n",
    "\n"
   ]
  },
  {
   "cell_type": "markdown",
   "metadata": {},
   "source": [
    "### With more than 2 categories"
   ]
  },
  {
   "cell_type": "code",
   "execution_count": 249,
   "metadata": {},
   "outputs": [
    {
     "data": {
      "text/html": [
       "<div>\n",
       "<style scoped>\n",
       "    .dataframe tbody tr th:only-of-type {\n",
       "        vertical-align: middle;\n",
       "    }\n",
       "\n",
       "    .dataframe tbody tr th {\n",
       "        vertical-align: top;\n",
       "    }\n",
       "\n",
       "    .dataframe thead th {\n",
       "        text-align: right;\n",
       "    }\n",
       "</style>\n",
       "<table border=\"1\" class=\"dataframe\">\n",
       "  <thead>\n",
       "    <tr style=\"text-align: right;\">\n",
       "      <th></th>\n",
       "      <th>politicalparty</th>\n",
       "      <th>income</th>\n",
       "      <th>educ</th>\n",
       "      <th>abortion</th>\n",
       "      <th>republican</th>\n",
       "    </tr>\n",
       "  </thead>\n",
       "  <tbody>\n",
       "    <tr>\n",
       "      <th>0</th>\n",
       "      <td>Republican</td>\n",
       "      <td>2152</td>\n",
       "      <td>9</td>\n",
       "      <td>0</td>\n",
       "      <td>1</td>\n",
       "    </tr>\n",
       "    <tr>\n",
       "      <th>1</th>\n",
       "      <td>Republican</td>\n",
       "      <td>906</td>\n",
       "      <td>6</td>\n",
       "      <td>0</td>\n",
       "      <td>1</td>\n",
       "    </tr>\n",
       "    <tr>\n",
       "      <th>2</th>\n",
       "      <td>Democrat</td>\n",
       "      <td>1373</td>\n",
       "      <td>6</td>\n",
       "      <td>0</td>\n",
       "      <td>0</td>\n",
       "    </tr>\n",
       "    <tr>\n",
       "      <th>3</th>\n",
       "      <td>Democrat</td>\n",
       "      <td>1941</td>\n",
       "      <td>4</td>\n",
       "      <td>0</td>\n",
       "      <td>0</td>\n",
       "    </tr>\n",
       "    <tr>\n",
       "      <th>4</th>\n",
       "      <td>Democrat</td>\n",
       "      <td>355</td>\n",
       "      <td>7</td>\n",
       "      <td>0</td>\n",
       "      <td>0</td>\n",
       "    </tr>\n",
       "  </tbody>\n",
       "</table>\n",
       "</div>"
      ],
      "text/plain": [
       "  politicalparty  income  educ  abortion  republican\n",
       "0     Republican    2152     9         0           1\n",
       "1     Republican     906     6         0           1\n",
       "2       Democrat    1373     6         0           0\n",
       "3       Democrat    1941     4         0           0\n",
       "4       Democrat     355     7         0           0"
      ]
     },
     "execution_count": 249,
     "metadata": {},
     "output_type": "execute_result"
    }
   ],
   "source": [
    "party_df = pd.read_csv('./data/gsspartyid.csv')\n",
    "party_df.head()\n",
    "#print(party_df['politicalparty'].value_counts())"
   ]
  },
  {
   "cell_type": "code",
   "execution_count": 266,
   "metadata": {},
   "outputs": [
    {
     "name": "stdout",
     "output_type": "stream",
     "text": [
      "Estimated beta1:  [[-0.02351597 -0.01273136 -1.00384789]]\n",
      "Estimated beta0:  [0.30520363]\n"
     ]
    }
   ],
   "source": [
    "party_df['logincome'] = np.log(party_df['income'])\n",
    "train_x = party_df[['logincome', 'educ', 'abortion']]\n",
    "train_y = party_df['republican']\n",
    "\n",
    "logitm = LogisticRegression(C = 10000000)\n",
    "\n",
    "logitm.fit(train_x, train_y);\n",
    "\n",
    "print('Estimated beta1: ', logitm.coef_)\n",
    "print('Estimated beta0: ', logitm.intercept_)\n"
   ]
  },
  {
   "cell_type": "code",
   "execution_count": 320,
   "metadata": {
    "scrolled": true
   },
   "outputs": [
    {
     "data": {
      "text/plain": [
       "array([0.50253905, 0.51716683, 0.51472534, ..., 0.28452455, 0.27767379,\n",
       "       0.27906997])"
      ]
     },
     "execution_count": 320,
     "metadata": {},
     "output_type": "execute_result"
    }
   ],
   "source": [
    "# Predict probabilities and build confusion matrix\n",
    "\n",
    "yhat = logitm.predict_proba(train_x) # gives prob of repub = 1 or 0\n",
    "yhat = yhat[:,1]  # get only the second col that gives prob of republican\n",
    "yhat"
   ]
  },
  {
   "cell_type": "code",
   "execution_count": 321,
   "metadata": {},
   "outputs": [
    {
     "name": "stdout",
     "output_type": "stream",
     "text": [
      "[[478 297]\n",
      " [207 325]]\n",
      "[[430 345]\n",
      " [166 366]]\n",
      "[[775   0]\n",
      " [532   0]]\n"
     ]
    }
   ],
   "source": [
    "import sklearn.metrics as met\n",
    "\n",
    "# confusion_matrix(actual, pred)\n",
    "# Columns are for predicted (0,1) and rows are observed (0,1)\n",
    "\n",
    "print(met.confusion_matrix(train_y, yhat > 0.5))\n",
    "print(met.confusion_matrix(train_y, yhat > 0.4)) # increases # classified as Rs\n",
    "print(met.confusion_matrix(train_y, yhat > 0.7)) # decreases # classified as R\n"
   ]
  },
  {
   "cell_type": "code",
   "execution_count": 322,
   "metadata": {},
   "outputs": [
    {
     "data": {
      "image/png": "[encoded data removed]",
      "text/plain": [
       "<Figure size 432x288 with 1 Axes>"
      ]
     },
     "metadata": {
      "needs_background": "light"
     },
     "output_type": "display_data"
    }
   ],
   "source": [
    "# ROC curve\n",
    "\n",
    "fpr, tpr, threshold = met.roc_curve(train_y, yhat)\n",
    "\n",
    "x = np.arange(0,1,0.01)\n",
    "\n",
    "plt.plot(x , x, '--', color = 'gray')\n",
    "plt.plot(fpr, tpr)\n",
    "plt.title(\"ROC curve for party ID using Logistic Reg\")\n",
    "plt.xlabel(\"False Positive Rate (FPR)\")\n",
    "plt.ylabel(\"True Positive Rate (TPR)\")\n",
    "\n"
   ]
  }
 ],
 "metadata": {
  "kernelspec": {
   "display_name": "Python 3",
   "language": "python",
   "name": "python3"
  },
  "language_info": {
   "codemirror_mode": {
    "name": "ipython",
    "version": 3
   },
   "file_extension": ".py",
   "mimetype": "text/x-python",
   "name": "python",
   "nbconvert_exporter": "python",
   "pygments_lexer": "ipython3",
   "version": "3.8.5"
  }
 },
 "nbformat": 4,
 "nbformat_minor": 4
}
