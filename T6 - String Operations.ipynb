{
 "cells": [
  {
   "cell_type": "markdown",
   "metadata": {},
   "source": [
    "# Strings and regex\n",
    "\n",
    "- Python documentation - https://docs.python.org/3/howto/regex.html\n",
    "- Cheat Sheet - https://www.debuggex.com/cheatsheet/regex/python\n",
    "\n",
    "**Test code here**\n",
    "- Pythex - https://pythex.org/\n",
    "- Regex101 - https://regex101.com/\n",
    "\n",
    "\n",
    "https://harvard-iacs.github.io/2020-CS109A/lectures/lecture02/notebook/"
   ]
  },
  {
   "cell_type": "code",
   "execution_count": 33,
   "metadata": {},
   "outputs": [],
   "source": [
    "import re\n",
    "import numpy as np"
   ]
  },
  {
   "cell_type": "markdown",
   "metadata": {},
   "source": [
    "- ```re.findall```\n",
    "    - ```\\w, \\s, \\d``` - alpha numeric, whitespace, digit\n",
    "    - 'a' - picks char\n",
    "    - [agk] - pick list of chars\n",
    "    - [a-zA-Z] - pick range\n",
    "    - [a-zA-Z]+ - one or more occurances\n",
    "    - [a-zA-Z]* - zero or more occurances"
   ]
  },
  {
   "cell_type": "code",
   "execution_count": 9,
   "metadata": {},
   "outputs": [
    {
     "data": {
      "text/plain": [
       "['a']"
      ]
     },
     "execution_count": 9,
     "metadata": {},
     "output_type": "execute_result"
    }
   ],
   "source": [
    "text = \"Code didn't work, no idea why…\"\n",
    "\n",
    "# pick specific char\n",
    "re.findall('a', text)"
   ]
  },
  {
   "cell_type": "code",
   "execution_count": 10,
   "metadata": {},
   "outputs": [
    {
     "data": {
      "text/plain": [
       "['o', 'e', 'i', 'o', 'o', 'i', 'e', 'a']"
      ]
     },
     "execution_count": 10,
     "metadata": {},
     "output_type": "execute_result"
    }
   ],
   "source": [
    "# pick any of these chars\n",
    "re.findall('[aeiou]', text)"
   ]
  },
  {
   "cell_type": "code",
   "execution_count": 14,
   "metadata": {},
   "outputs": [
    {
     "data": {
      "text/plain": [
       "['Code', 'didn', 't', 'work', 'no', 'idea', 'why']"
      ]
     },
     "execution_count": 14,
     "metadata": {},
     "output_type": "execute_result"
    }
   ],
   "source": [
    "# pick one or more occurances\n",
    "re.findall('[a-zA-Z]+', text)"
   ]
  },
  {
   "cell_type": "code",
   "execution_count": 39,
   "metadata": {},
   "outputs": [
    {
     "data": {
      "text/plain": [
       "['Code',\n",
       " '',\n",
       " 'didn',\n",
       " '',\n",
       " 't',\n",
       " '',\n",
       " 'work',\n",
       " '',\n",
       " '',\n",
       " 'no',\n",
       " '',\n",
       " 'idea',\n",
       " '',\n",
       " 'why',\n",
       " '',\n",
       " '']"
      ]
     },
     "execution_count": 39,
     "metadata": {},
     "output_type": "execute_result"
    }
   ],
   "source": [
    "# pick zero or more occurances\n",
    "re.findall('[a-zA-Z]*', text)"
   ]
  },
  {
   "cell_type": "code",
   "execution_count": 50,
   "metadata": {},
   "outputs": [
    {
     "data": {
      "text/plain": [
       "['Code', 'didn', 'work', 'idea']"
      ]
     },
     "execution_count": 50,
     "metadata": {},
     "output_type": "execute_result"
    }
   ],
   "source": [
    "# pick words with number of chars\n",
    "re.findall('\\w{4}', text)"
   ]
  },
  {
   "cell_type": "code",
   "execution_count": 55,
   "metadata": {},
   "outputs": [
    {
     "data": {
      "text/plain": [
       "['555-123-1234', '555-123-5678']"
      ]
     },
     "execution_count": 55,
     "metadata": {},
     "output_type": "execute_result"
    }
   ],
   "source": [
    "# pick 3 digits in a row, then 3, then 4\n",
    "text = '555-123-1234, 33-555-123-5678'\n",
    "re.findall('\\d{3}-\\d{3}-\\d{4}', text)"
   ]
  },
  {
   "cell_type": "code",
   "execution_count": 69,
   "metadata": {},
   "outputs": [
    {
     "data": {
      "text/plain": [
       "['33-555-123-5678']"
      ]
     },
     "execution_count": 69,
     "metadata": {},
     "output_type": "execute_result"
    }
   ],
   "source": [
    "re.findall('\\d{1,3}-\\d{3}-\\d{3}-\\d{4}', text)"
   ]
  },
  {
   "cell_type": "markdown",
   "metadata": {},
   "source": [
    "## Some practice"
   ]
  },
  {
   "cell_type": "code",
   "execution_count": 70,
   "metadata": {},
   "outputs": [],
   "source": [
    "sample_string = \"Hello, my name is Erika Uyterhoeven, and my email is erika@electerika.com!!\""
   ]
  },
  {
   "cell_type": "code",
   "execution_count": 189,
   "metadata": {},
   "outputs": [
    {
     "data": {
      "text/plain": [
       "['Hello,',\n",
       " 'my',\n",
       " 'name',\n",
       " 'is',\n",
       " 'Erika',\n",
       " 'Uyterhoeven,',\n",
       " 'and',\n",
       " 'my',\n",
       " 'email',\n",
       " 'is',\n",
       " 'erika@electerika.com!!']"
      ]
     },
     "execution_count": 189,
     "metadata": {},
     "output_type": "execute_result"
    }
   ],
   "source": [
    "# pick all words including the punctuation\n",
    "\n",
    "# only words, no punctuation\n",
    "re.findall('[a-zA-z]+', sample_string)\n",
    "\n",
    "# words with punctuation attached to it\n",
    "re.findall('[a-zA-z@,!!.]+', sample_string)\n"
   ]
  },
  {
   "cell_type": "code",
   "execution_count": 191,
   "metadata": {},
   "outputs": [
    {
     "data": {
      "text/plain": [
       "['Hello',\n",
       " 'my',\n",
       " 'name',\n",
       " 'is',\n",
       " 'Erika',\n",
       " 'Uyterhoeven',\n",
       " 'and',\n",
       " 'my',\n",
       " 'email',\n",
       " 'is',\n",
       " 'erika@electerika.com']"
      ]
     },
     "execution_count": 191,
     "metadata": {},
     "output_type": "execute_result"
    }
   ],
   "source": [
    "# words without punctiation except in the email\n",
    "re.findall('[a-zA-z@.]+', sample_string)"
   ]
  },
  {
   "cell_type": "code",
   "execution_count": 178,
   "metadata": {},
   "outputs": [
    {
     "data": {
      "text/plain": [
       "['erika@electerika.com']"
      ]
     },
     "execution_count": 178,
     "metadata": {},
     "output_type": "execute_result"
    }
   ],
   "source": [
    "# email only --- note the full stop\n",
    "\n",
    "re.findall('\\w+@\\w+[.]\\w+', sample_string)\n"
   ]
  }
 ],
 "metadata": {
  "kernelspec": {
   "display_name": "Python 3",
   "language": "python",
   "name": "python3"
  },
  "language_info": {
   "codemirror_mode": {
    "name": "ipython",
    "version": 3
   },
   "file_extension": ".py",
   "mimetype": "text/x-python",
   "name": "python",
   "nbconvert_exporter": "python",
   "pygments_lexer": "ipython3",
   "version": "3.8.5"
  }
 },
 "nbformat": 4,
 "nbformat_minor": 4
}
